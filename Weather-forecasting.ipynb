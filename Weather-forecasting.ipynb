{
 "cells": [
  {
   "attachments": {},
   "cell_type": "markdown",
   "id": "1471b4f7",
   "metadata": {},
   "source": [
    "# Sub-Seasonal Temperature Forecasting in the United States.\n",
    "\n",
    "##### Authors:<ul> <li>Fridah Kimathi </li>  <li>Scholar Chapkirui </li></ul>"
   ]
  },
  {
   "cell_type": "markdown",
   "id": "86f6da87",
   "metadata": {},
   "source": [
    "## Background"
   ]
  },
  {
   "attachments": {},
   "cell_type": "markdown",
   "id": "afd583b1",
   "metadata": {},
   "source": [
    "## Extra\n",
    "to accurately predict the average maximum and minimum temperature over a 14-day period for various locations. This information is critical for various industries such as agriculture, energy, transportation, and tourism, as they heavily rely on weather conditions and patterns to make informed decisions and plan their operations accordingly. Improper weather forecasting can lead to significant financial losses, disrupted supply chains, and decreased consumer satisfaction. Hence, there is a strong need for a reliable and efficient method of forecasting sub-seasonal temperatures, which can provide actionable insights for businesses and help them make data-driven decisions."
   ]
  },
  {
   "cell_type": "markdown",
   "id": "550d1859",
   "metadata": {},
   "source": [
    "Extreme weather events are sweeping the globe and range from heat waves, wildfires and drought to hurricanes, extreme rainfall and flooding. These weather events have multiple impacts on agriculture, energy, transportation, as well as low resource communities and disaster planning in countries across the globe.\n",
    "\n",
    "Accurate long-term forecasts of temperature and precipitation are crucial to help people prepare and adapt to these extreme weather events. Currently, purely physics-based models dominate short-term weather forecasting. But these models have a limited forecast horizon. The availability of meteorological data offers an opportunity for data scientists to improve sub-seasonal forecasts by blending physics-based forecasts with machine learning. Sub-seasonal forecasts for weather and climate conditions (lead-times ranging from 15 to more than 45 days) would help communities and industries adapt to the challenges brought on by climate change."
   ]
  },
  {
   "cell_type": "markdown",
   "id": "4bced711",
   "metadata": {},
   "source": [
    "## Project overview"
   ]
  },
  {
   "cell_type": "markdown",
   "id": "f883b16a",
   "metadata": {},
   "source": [
    "This project focuses on a prediction task involving forecasting sub-seasonal temperatures (temperatures over a two-week period) within the United States. The dataset used consists of weather and climate information for a number of US locations, for a number of start dates for the two-week observation, as well as the forecasted temperature and precipitation from a number of weather forecast models. Each row in the data corresponds to a single location and a single start date for the two-week period. The task is to predict the arithmetic mean of the maximum and minimum temperature over the next 14 days, for each location and start date."
   ]
  },
  {
   "attachments": {},
   "cell_type": "markdown",
   "id": "9e18791f",
   "metadata": {},
   "source": [
    "### **Importing the required libraries**"
   ]
  },
  {
   "cell_type": "code",
   "execution_count": 1,
   "id": "868250fb",
   "metadata": {},
   "outputs": [],
   "source": [
    "# importing pandas for data wrangling and manipulation\n",
    "import pandas as pd\n",
    "\n",
    "# numpy for numerical operation and arrays\n",
    "import numpy as np\n",
    "\n",
    "# importing matplotlib and seaborn for data visualization\n",
    "import matplotlib.pyplot as plt\n",
    "%matplotlib inline\n",
    "%config inlineBackend.figure_format = 'retina'\n",
    "import seaborn as sns\n",
    "sns.set_context('notebook')\n",
    "\n",
    "\n",
    "# Sklearn\n",
    "from sklearn.compose import ColumnTransformer\n",
    "from sklearn.impute import SimpleImputer\n",
    "from sklearn.preprocessing import MinMaxScaler, FunctionTransformer, FunctionTransformer\n",
    "from sklearn.linear_model import LinearRegression, LassoCV, Lasso\n",
    "from sklearn.metrics import mean_squared_error\n",
    "from sklearn.model_selection import cross_validate, KFold\n",
    "from sklearn.feature_selection import RFE\n",
    "\n",
    "\n",
    "\n",
    "import statsmodels.api as sm\n",
    "import scipy.stats as stats\n",
    "from statsmodels.formula.api import ols"
   ]
  },
  {
   "attachments": {},
   "cell_type": "markdown",
   "id": "ede0f456",
   "metadata": {},
   "source": [
    "#### **Loading the data**"
   ]
  },
  {
   "cell_type": "code",
   "execution_count": 2,
   "id": "67dcb50f",
   "metadata": {},
   "outputs": [
    {
     "data": {
      "text/html": [
       "<div>\n",
       "<style scoped>\n",
       "    .dataframe tbody tr th:only-of-type {\n",
       "        vertical-align: middle;\n",
       "    }\n",
       "\n",
       "    .dataframe tbody tr th {\n",
       "        vertical-align: top;\n",
       "    }\n",
       "\n",
       "    .dataframe thead th {\n",
       "        text-align: right;\n",
       "    }\n",
       "</style>\n",
       "<table border=\"1\" class=\"dataframe\">\n",
       "  <thead>\n",
       "    <tr style=\"text-align: right;\">\n",
       "      <th></th>\n",
       "      <th>lat</th>\n",
       "      <th>lon</th>\n",
       "      <th>startdate</th>\n",
       "      <th>contest-pevpr-sfc-gauss-14d__pevpr</th>\n",
       "      <th>nmme0-tmp2m-34w__cancm30</th>\n",
       "      <th>nmme0-tmp2m-34w__cancm40</th>\n",
       "      <th>nmme0-tmp2m-34w__ccsm30</th>\n",
       "      <th>nmme0-tmp2m-34w__ccsm40</th>\n",
       "      <th>nmme0-tmp2m-34w__cfsv20</th>\n",
       "      <th>nmme0-tmp2m-34w__gfdlflora0</th>\n",
       "      <th>...</th>\n",
       "      <th>wind-vwnd-925-2010-11</th>\n",
       "      <th>wind-vwnd-925-2010-12</th>\n",
       "      <th>wind-vwnd-925-2010-13</th>\n",
       "      <th>wind-vwnd-925-2010-14</th>\n",
       "      <th>wind-vwnd-925-2010-15</th>\n",
       "      <th>wind-vwnd-925-2010-16</th>\n",
       "      <th>wind-vwnd-925-2010-17</th>\n",
       "      <th>wind-vwnd-925-2010-18</th>\n",
       "      <th>wind-vwnd-925-2010-19</th>\n",
       "      <th>wind-vwnd-925-2010-20</th>\n",
       "    </tr>\n",
       "    <tr>\n",
       "      <th>index</th>\n",
       "      <th></th>\n",
       "      <th></th>\n",
       "      <th></th>\n",
       "      <th></th>\n",
       "      <th></th>\n",
       "      <th></th>\n",
       "      <th></th>\n",
       "      <th></th>\n",
       "      <th></th>\n",
       "      <th></th>\n",
       "      <th></th>\n",
       "      <th></th>\n",
       "      <th></th>\n",
       "      <th></th>\n",
       "      <th></th>\n",
       "      <th></th>\n",
       "      <th></th>\n",
       "      <th></th>\n",
       "      <th></th>\n",
       "      <th></th>\n",
       "      <th></th>\n",
       "    </tr>\n",
       "  </thead>\n",
       "  <tbody>\n",
       "    <tr>\n",
       "      <th>0</th>\n",
       "      <td>0.0</td>\n",
       "      <td>0.833333</td>\n",
       "      <td>9/1/14</td>\n",
       "      <td>237.0</td>\n",
       "      <td>29.02</td>\n",
       "      <td>31.64</td>\n",
       "      <td>29.57</td>\n",
       "      <td>30.73</td>\n",
       "      <td>29.71</td>\n",
       "      <td>31.52</td>\n",
       "      <td>...</td>\n",
       "      <td>-27.68</td>\n",
       "      <td>-37.21</td>\n",
       "      <td>8.32</td>\n",
       "      <td>9.56</td>\n",
       "      <td>-2.03</td>\n",
       "      <td>48.13</td>\n",
       "      <td>28.09</td>\n",
       "      <td>-13.50</td>\n",
       "      <td>11.90</td>\n",
       "      <td>4.58</td>\n",
       "    </tr>\n",
       "    <tr>\n",
       "      <th>1</th>\n",
       "      <td>0.0</td>\n",
       "      <td>0.833333</td>\n",
       "      <td>9/2/14</td>\n",
       "      <td>228.9</td>\n",
       "      <td>29.02</td>\n",
       "      <td>31.64</td>\n",
       "      <td>29.57</td>\n",
       "      <td>30.73</td>\n",
       "      <td>29.71</td>\n",
       "      <td>31.52</td>\n",
       "      <td>...</td>\n",
       "      <td>-21.13</td>\n",
       "      <td>-36.57</td>\n",
       "      <td>8.77</td>\n",
       "      <td>21.17</td>\n",
       "      <td>4.44</td>\n",
       "      <td>48.60</td>\n",
       "      <td>27.41</td>\n",
       "      <td>-23.77</td>\n",
       "      <td>15.44</td>\n",
       "      <td>3.42</td>\n",
       "    </tr>\n",
       "  </tbody>\n",
       "</table>\n",
       "<p>2 rows × 245 columns</p>\n",
       "</div>"
      ],
      "text/plain": [
       "       lat       lon startdate  contest-pevpr-sfc-gauss-14d__pevpr  \\\n",
       "index                                                                \n",
       "0      0.0  0.833333    9/1/14                               237.0   \n",
       "1      0.0  0.833333    9/2/14                               228.9   \n",
       "\n",
       "       nmme0-tmp2m-34w__cancm30  nmme0-tmp2m-34w__cancm40  \\\n",
       "index                                                       \n",
       "0                         29.02                     31.64   \n",
       "1                         29.02                     31.64   \n",
       "\n",
       "       nmme0-tmp2m-34w__ccsm30  nmme0-tmp2m-34w__ccsm40  \\\n",
       "index                                                     \n",
       "0                        29.57                    30.73   \n",
       "1                        29.57                    30.73   \n",
       "\n",
       "       nmme0-tmp2m-34w__cfsv20  nmme0-tmp2m-34w__gfdlflora0  ...  \\\n",
       "index                                                        ...   \n",
       "0                        29.71                        31.52  ...   \n",
       "1                        29.71                        31.52  ...   \n",
       "\n",
       "       wind-vwnd-925-2010-11  wind-vwnd-925-2010-12  wind-vwnd-925-2010-13  \\\n",
       "index                                                                        \n",
       "0                     -27.68                 -37.21                   8.32   \n",
       "1                     -21.13                 -36.57                   8.77   \n",
       "\n",
       "       wind-vwnd-925-2010-14  wind-vwnd-925-2010-15  wind-vwnd-925-2010-16  \\\n",
       "index                                                                        \n",
       "0                       9.56                  -2.03                  48.13   \n",
       "1                      21.17                   4.44                  48.60   \n",
       "\n",
       "       wind-vwnd-925-2010-17  wind-vwnd-925-2010-18  wind-vwnd-925-2010-19  \\\n",
       "index                                                                        \n",
       "0                      28.09                 -13.50                  11.90   \n",
       "1                      27.41                 -23.77                  15.44   \n",
       "\n",
       "       wind-vwnd-925-2010-20  \n",
       "index                         \n",
       "0                       4.58  \n",
       "1                       3.42  \n",
       "\n",
       "[2 rows x 245 columns]"
      ]
     },
     "execution_count": 2,
     "metadata": {},
     "output_type": "execute_result"
    }
   ],
   "source": [
    "#load the train dataset\n",
    "train_df = pd.read_csv('Data/train_data.csv', index_col=0)\n",
    "train_df.head(2)"
   ]
  },
  {
   "cell_type": "code",
   "execution_count": 3,
   "id": "05f6788e",
   "metadata": {},
   "outputs": [
    {
     "data": {
      "text/html": [
       "<div>\n",
       "<style scoped>\n",
       "    .dataframe tbody tr th:only-of-type {\n",
       "        vertical-align: middle;\n",
       "    }\n",
       "\n",
       "    .dataframe tbody tr th {\n",
       "        vertical-align: top;\n",
       "    }\n",
       "\n",
       "    .dataframe thead th {\n",
       "        text-align: right;\n",
       "    }\n",
       "</style>\n",
       "<table border=\"1\" class=\"dataframe\">\n",
       "  <thead>\n",
       "    <tr style=\"text-align: right;\">\n",
       "      <th></th>\n",
       "      <th>lat</th>\n",
       "      <th>lon</th>\n",
       "      <th>startdate</th>\n",
       "      <th>contest-pevpr-sfc-gauss-14d__pevpr</th>\n",
       "      <th>nmme0-tmp2m-34w__cancm30</th>\n",
       "      <th>nmme0-tmp2m-34w__cancm40</th>\n",
       "      <th>nmme0-tmp2m-34w__ccsm30</th>\n",
       "      <th>nmme0-tmp2m-34w__ccsm40</th>\n",
       "      <th>nmme0-tmp2m-34w__cfsv20</th>\n",
       "      <th>nmme0-tmp2m-34w__gfdlflora0</th>\n",
       "      <th>...</th>\n",
       "      <th>wind-vwnd-925-2010-11</th>\n",
       "      <th>wind-vwnd-925-2010-12</th>\n",
       "      <th>wind-vwnd-925-2010-13</th>\n",
       "      <th>wind-vwnd-925-2010-14</th>\n",
       "      <th>wind-vwnd-925-2010-15</th>\n",
       "      <th>wind-vwnd-925-2010-16</th>\n",
       "      <th>wind-vwnd-925-2010-17</th>\n",
       "      <th>wind-vwnd-925-2010-18</th>\n",
       "      <th>wind-vwnd-925-2010-19</th>\n",
       "      <th>wind-vwnd-925-2010-20</th>\n",
       "    </tr>\n",
       "    <tr>\n",
       "      <th>index</th>\n",
       "      <th></th>\n",
       "      <th></th>\n",
       "      <th></th>\n",
       "      <th></th>\n",
       "      <th></th>\n",
       "      <th></th>\n",
       "      <th></th>\n",
       "      <th></th>\n",
       "      <th></th>\n",
       "      <th></th>\n",
       "      <th></th>\n",
       "      <th></th>\n",
       "      <th></th>\n",
       "      <th></th>\n",
       "      <th></th>\n",
       "      <th></th>\n",
       "      <th></th>\n",
       "      <th></th>\n",
       "      <th></th>\n",
       "      <th></th>\n",
       "      <th></th>\n",
       "    </tr>\n",
       "  </thead>\n",
       "  <tbody>\n",
       "    <tr>\n",
       "      <th>375734</th>\n",
       "      <td>0.0</td>\n",
       "      <td>0.833333</td>\n",
       "      <td>11/1/22</td>\n",
       "      <td>339.88</td>\n",
       "      <td>30.88</td>\n",
       "      <td>30.92</td>\n",
       "      <td>29.17</td>\n",
       "      <td>31.02</td>\n",
       "      <td>29.47</td>\n",
       "      <td>30.93</td>\n",
       "      <td>...</td>\n",
       "      <td>-19.28</td>\n",
       "      <td>-39.77</td>\n",
       "      <td>-29.25</td>\n",
       "      <td>40.88</td>\n",
       "      <td>-8.31</td>\n",
       "      <td>14.91</td>\n",
       "      <td>-24.62</td>\n",
       "      <td>31.05</td>\n",
       "      <td>-23.69</td>\n",
       "      <td>6.27</td>\n",
       "    </tr>\n",
       "    <tr>\n",
       "      <th>375735</th>\n",
       "      <td>0.0</td>\n",
       "      <td>0.833333</td>\n",
       "      <td>11/2/22</td>\n",
       "      <td>334.63</td>\n",
       "      <td>30.88</td>\n",
       "      <td>30.92</td>\n",
       "      <td>29.17</td>\n",
       "      <td>31.02</td>\n",
       "      <td>29.47</td>\n",
       "      <td>30.93</td>\n",
       "      <td>...</td>\n",
       "      <td>-19.58</td>\n",
       "      <td>-43.14</td>\n",
       "      <td>-28.62</td>\n",
       "      <td>45.37</td>\n",
       "      <td>-5.42</td>\n",
       "      <td>16.97</td>\n",
       "      <td>-23.94</td>\n",
       "      <td>28.84</td>\n",
       "      <td>-20.61</td>\n",
       "      <td>14.16</td>\n",
       "    </tr>\n",
       "  </tbody>\n",
       "</table>\n",
       "<p>2 rows × 244 columns</p>\n",
       "</div>"
      ],
      "text/plain": [
       "        lat       lon startdate  contest-pevpr-sfc-gauss-14d__pevpr  \\\n",
       "index                                                                 \n",
       "375734  0.0  0.833333   11/1/22                              339.88   \n",
       "375735  0.0  0.833333   11/2/22                              334.63   \n",
       "\n",
       "        nmme0-tmp2m-34w__cancm30  nmme0-tmp2m-34w__cancm40  \\\n",
       "index                                                        \n",
       "375734                     30.88                     30.92   \n",
       "375735                     30.88                     30.92   \n",
       "\n",
       "        nmme0-tmp2m-34w__ccsm30  nmme0-tmp2m-34w__ccsm40  \\\n",
       "index                                                      \n",
       "375734                    29.17                    31.02   \n",
       "375735                    29.17                    31.02   \n",
       "\n",
       "        nmme0-tmp2m-34w__cfsv20  nmme0-tmp2m-34w__gfdlflora0  ...  \\\n",
       "index                                                         ...   \n",
       "375734                    29.47                        30.93  ...   \n",
       "375735                    29.47                        30.93  ...   \n",
       "\n",
       "        wind-vwnd-925-2010-11  wind-vwnd-925-2010-12  wind-vwnd-925-2010-13  \\\n",
       "index                                                                         \n",
       "375734                 -19.28                 -39.77                 -29.25   \n",
       "375735                 -19.58                 -43.14                 -28.62   \n",
       "\n",
       "        wind-vwnd-925-2010-14  wind-vwnd-925-2010-15  wind-vwnd-925-2010-16  \\\n",
       "index                                                                         \n",
       "375734                  40.88                  -8.31                  14.91   \n",
       "375735                  45.37                  -5.42                  16.97   \n",
       "\n",
       "        wind-vwnd-925-2010-17  wind-vwnd-925-2010-18  wind-vwnd-925-2010-19  \\\n",
       "index                                                                         \n",
       "375734                 -24.62                  31.05                 -23.69   \n",
       "375735                 -23.94                  28.84                 -20.61   \n",
       "\n",
       "        wind-vwnd-925-2010-20  \n",
       "index                          \n",
       "375734                   6.27  \n",
       "375735                  14.16  \n",
       "\n",
       "[2 rows x 244 columns]"
      ]
     },
     "execution_count": 3,
     "metadata": {},
     "output_type": "execute_result"
    }
   ],
   "source": [
    "#load the test dataset\n",
    "test_df = pd.read_csv('Data/test_data.csv', index_col=0)\n",
    "test_df.head(2)"
   ]
  },
  {
   "attachments": {},
   "cell_type": "markdown",
   "id": "edd0c04c",
   "metadata": {},
   "source": [
    "# **Data Understanding**"
   ]
  },
  {
   "attachments": {},
   "cell_type": "markdown",
   "id": "90f51562",
   "metadata": {},
   "source": [
    "There are two datasets used in the project:\n",
    "- train_data.csv: the training dataset, where contest-tmp2m-14d__tmp2m, the arithmetic mean of the max and min observed temperature over the next 14 days for each location and start date, is provided\n",
    "- test_data.csv: the test dataset, where the true value of contest-tmp2m-14d__tmp2m for each row is not provided."
   ]
  },
  {
   "cell_type": "code",
   "execution_count": 4,
   "id": "662c2771",
   "metadata": {},
   "outputs": [
    {
     "name": "stdout",
     "output_type": "stream",
     "text": [
      "Shape of train data: (375734, 245)\n",
      "Shape of test data: (31354, 244)\n"
     ]
    }
   ],
   "source": [
    "# number of rows and columns\n",
    "print(f'Shape of train data: {train_df.shape}')\n",
    "print(f'Shape of test data: {test_df.shape}')"
   ]
  },
  {
   "cell_type": "code",
   "execution_count": 5,
   "id": "9f97cb17",
   "metadata": {},
   "outputs": [
    {
     "name": "stdout",
     "output_type": "stream",
     "text": [
      "<class 'pandas.core.frame.DataFrame'>\n",
      "Int64Index: 375734 entries, 0 to 375733\n",
      "Columns: 245 entries, lat to wind-vwnd-925-2010-20\n",
      "dtypes: float64(240), int64(3), object(2)\n",
      "memory usage: 705.2+ MB\n"
     ]
    }
   ],
   "source": [
    "# summary of train dataset\n",
    "train_df.info()"
   ]
  },
  {
   "cell_type": "code",
   "execution_count": 6,
   "id": "56ac48de",
   "metadata": {},
   "outputs": [
    {
     "name": "stdout",
     "output_type": "stream",
     "text": [
      "<class 'pandas.core.frame.DataFrame'>\n",
      "Int64Index: 31354 entries, 375734 to 407087\n",
      "Columns: 244 entries, lat to wind-vwnd-925-2010-20\n",
      "dtypes: float64(241), int64(1), object(2)\n",
      "memory usage: 58.6+ MB\n"
     ]
    }
   ],
   "source": [
    "# summary of test dataset\n",
    "test_df.info()"
   ]
  },
  {
   "cell_type": "code",
   "execution_count": 7,
   "id": "977305ff",
   "metadata": {},
   "outputs": [
    {
     "data": {
      "text/plain": [
       "Index(['lat', 'lon', 'startdate', 'contest-pevpr-sfc-gauss-14d__pevpr',\n",
       "       'nmme0-tmp2m-34w__cancm30', 'nmme0-tmp2m-34w__cancm40',\n",
       "       'nmme0-tmp2m-34w__ccsm30', 'nmme0-tmp2m-34w__ccsm40',\n",
       "       'nmme0-tmp2m-34w__cfsv20', 'nmme0-tmp2m-34w__gfdlflora0',\n",
       "       ...\n",
       "       'wind-vwnd-925-2010-11', 'wind-vwnd-925-2010-12',\n",
       "       'wind-vwnd-925-2010-13', 'wind-vwnd-925-2010-14',\n",
       "       'wind-vwnd-925-2010-15', 'wind-vwnd-925-2010-16',\n",
       "       'wind-vwnd-925-2010-17', 'wind-vwnd-925-2010-18',\n",
       "       'wind-vwnd-925-2010-19', 'wind-vwnd-925-2010-20'],\n",
       "      dtype='object', length=245)"
      ]
     },
     "execution_count": 7,
     "metadata": {},
     "output_type": "execute_result"
    }
   ],
   "source": [
    "#column names of train_df\n",
    "train_df.columns"
   ]
  },
  {
   "cell_type": "code",
   "execution_count": 8,
   "id": "9e884129",
   "metadata": {},
   "outputs": [
    {
     "name": "stdout",
     "output_type": "stream",
     "text": [
      "contest-tmp2m-14d__tmp2m, Datatype: float64\n"
     ]
    }
   ],
   "source": [
    "# Printing out the target column name:\n",
    "\n",
    "for col in train_df.columns:\n",
    "    if col not in test_df.columns:\n",
    "        print(f'{col}, Datatype: {train_df[col].dtype}')"
   ]
  },
  {
   "cell_type": "code",
   "execution_count": 9,
   "id": "1e65669e",
   "metadata": {},
   "outputs": [
    {
     "data": {
      "text/html": [
       "<div>\n",
       "<style scoped>\n",
       "    .dataframe tbody tr th:only-of-type {\n",
       "        vertical-align: middle;\n",
       "    }\n",
       "\n",
       "    .dataframe tbody tr th {\n",
       "        vertical-align: top;\n",
       "    }\n",
       "\n",
       "    .dataframe thead th {\n",
       "        text-align: right;\n",
       "    }\n",
       "</style>\n",
       "<table border=\"1\" class=\"dataframe\">\n",
       "  <thead>\n",
       "    <tr style=\"text-align: right;\">\n",
       "      <th></th>\n",
       "      <th>startdate</th>\n",
       "      <th>climateregions__climateregion</th>\n",
       "    </tr>\n",
       "    <tr>\n",
       "      <th>index</th>\n",
       "      <th></th>\n",
       "      <th></th>\n",
       "    </tr>\n",
       "  </thead>\n",
       "  <tbody>\n",
       "    <tr>\n",
       "      <th>0</th>\n",
       "      <td>9/1/14</td>\n",
       "      <td>BSh</td>\n",
       "    </tr>\n",
       "    <tr>\n",
       "      <th>1</th>\n",
       "      <td>9/2/14</td>\n",
       "      <td>BSh</td>\n",
       "    </tr>\n",
       "  </tbody>\n",
       "</table>\n",
       "</div>"
      ],
      "text/plain": [
       "      startdate climateregions__climateregion\n",
       "index                                        \n",
       "0        9/1/14                           BSh\n",
       "1        9/2/14                           BSh"
      ]
     },
     "execution_count": 9,
     "metadata": {},
     "output_type": "execute_result"
    }
   ],
   "source": [
    "# columns of dtype object\n",
    "train_df.select_dtypes(include='object').head(2)"
   ]
  },
  {
   "cell_type": "code",
   "execution_count": 10,
   "id": "96128eb3",
   "metadata": {},
   "outputs": [
    {
     "name": "stdout",
     "output_type": "stream",
     "text": [
      "4    59110\n",
      "3    50372\n",
      "7    49344\n",
      "1    47802\n",
      "6    46260\n",
      "2    43690\n",
      "8    41120\n",
      "5    38036\n",
      "Name: mjo1d__phase, dtype: int64\n",
      "*****************************************************\n",
      "67    94062\n",
      "66    78128\n",
      "48    30326\n",
      "37    22102\n",
      "64    15934\n",
      "63    15934\n",
      "53    15934\n",
      "47    15934\n",
      "44    15934\n",
      "61    15420\n",
      "60    15420\n",
      "51    15420\n",
      "49    15420\n",
      "56     9766\n",
      "Name: mei__meirank, dtype: int64\n",
      "*****************************************************\n",
      "4    291438\n",
      "3     84296\n",
      "Name: mei__nip, dtype: int64\n",
      "*****************************************************\n"
     ]
    }
   ],
   "source": [
    "# unique values of columns with dtype int64\n",
    "\n",
    "for col in train_df.select_dtypes(include='int64').columns:\n",
    "    print(train_df[col].value_counts())\n",
    "    print('*****************************************************')"
   ]
  },
  {
   "cell_type": "markdown",
   "id": "c9f8c6d5",
   "metadata": {},
   "source": [
    "The target variable is the the arithmetic mean of the max and min observed temperature over the next 14 days for each location, and start date: 'contest-tmp2m-14d__tmp2m'."
   ]
  },
  {
   "cell_type": "code",
   "execution_count": 11,
   "id": "6ad5e7be",
   "metadata": {
    "scrolled": true
   },
   "outputs": [
    {
     "data": {
      "image/png": "[encoded data removed]",
      "text/plain": [
       "<Figure size 864x432 with 1 Axes>"
      ]
     },
     "metadata": {
      "needs_background": "light"
     },
     "output_type": "display_data"
    }
   ],
   "source": [
    "# Distribution of target variable - 'contest-tmp2m-14d__tmp2m'\n",
    "fig, ax = plt.subplots(figsize=(12,6))\n",
    "sns.histplot(train_df['contest-tmp2m-14d__tmp2m'], kde=True, kde_kws=dict(cut=3),\n",
    "             alpha=.4, edgecolor=(1, 1, 1, .4), ax=ax)\n",
    "ax.set_title('Distribution of arithmetic mean of the max and min temperature')\n",
    "ax.set_xlabel('Arithmetic mean of the max and min temperature');"
   ]
  },
  {
   "cell_type": "markdown",
   "id": "43be5996",
   "metadata": {},
   "source": [
    "The arithmetic mean temperature is between -20 and 40. The temperature is more normally distributed. It is slightly skewed to the left."
   ]
  },
  {
   "cell_type": "markdown",
   "id": "e64a42e9",
   "metadata": {},
   "source": [
    "## Data Preparation"
   ]
  },
  {
   "cell_type": "markdown",
   "id": "38fe616b",
   "metadata": {},
   "source": [
    "### Duplicates"
   ]
  },
  {
   "cell_type": "code",
   "execution_count": 12,
   "id": "096ed0ca",
   "metadata": {},
   "outputs": [
    {
     "data": {
      "text/plain": [
       "0"
      ]
     },
     "execution_count": 12,
     "metadata": {},
     "output_type": "execute_result"
    }
   ],
   "source": [
    "# check for duplicates\n",
    "train_df.duplicated().sum()"
   ]
  },
  {
   "cell_type": "markdown",
   "id": "07432d08",
   "metadata": {},
   "source": [
    "No duplicates in the dataset."
   ]
  },
  {
   "cell_type": "markdown",
   "id": "ccdf4003",
   "metadata": {},
   "source": [
    "### Missing values"
   ]
  },
  {
   "cell_type": "code",
   "execution_count": 13,
   "id": "3194e662",
   "metadata": {},
   "outputs": [],
   "source": [
    "def is_missing(data):\n",
    "    \"\"\" \n",
    "    A function that return columns with missing values\n",
    "    \"\"\"\n",
    "    return {column:data[column].isnull().sum() for column in data.columns if data[column].isnull().sum()}"
   ]
  },
  {
   "cell_type": "code",
   "execution_count": 14,
   "id": "399046c7",
   "metadata": {},
   "outputs": [
    {
     "data": {
      "text/plain": [
       "{'nmme0-tmp2m-34w__ccsm30': 15934,\n",
       " 'nmme-tmp2m-56w__ccsm3': 10280,\n",
       " 'nmme-prate-34w__ccsm3': 8738,\n",
       " 'nmme0-prate-56w__ccsm30': 15934,\n",
       " 'nmme0-prate-34w__ccsm30': 15934,\n",
       " 'nmme-prate-56w__ccsm3': 10280,\n",
       " 'nmme-tmp2m-34w__ccsm3': 8738,\n",
       " 'ccsm30': 15934}"
      ]
     },
     "execution_count": 14,
     "metadata": {},
     "output_type": "execute_result"
    }
   ],
   "source": [
    "is_missing(train_df)"
   ]
  },
  {
   "cell_type": "code",
   "execution_count": 15,
   "id": "5301ee85",
   "metadata": {},
   "outputs": [
    {
     "data": {
      "text/plain": [
       "nmme0-tmp2m-34w__ccsm30    float64\n",
       "nmme-tmp2m-56w__ccsm3      float64\n",
       "nmme-prate-34w__ccsm3      float64\n",
       "nmme0-prate-56w__ccsm30    float64\n",
       "nmme0-prate-34w__ccsm30    float64\n",
       "nmme-prate-56w__ccsm3      float64\n",
       "nmme-tmp2m-34w__ccsm3      float64\n",
       "ccsm30                     float64\n",
       "dtype: object"
      ]
     },
     "execution_count": 15,
     "metadata": {},
     "output_type": "execute_result"
    }
   ],
   "source": [
    "train_df[is_missing(train_df).keys()].dtypes"
   ]
  },
  {
   "cell_type": "code",
   "execution_count": 16,
   "id": "76e6872c",
   "metadata": {},
   "outputs": [
    {
     "data": {
      "text/plain": [
       "{'nmme0-tmp2m-34w__ccsm30': 4.24,\n",
       " 'nmme-tmp2m-56w__ccsm3': 2.74,\n",
       " 'nmme-prate-34w__ccsm3': 2.33,\n",
       " 'nmme0-prate-56w__ccsm30': 4.24,\n",
       " 'nmme0-prate-34w__ccsm30': 4.24,\n",
       " 'nmme-prate-56w__ccsm3': 2.74,\n",
       " 'nmme-tmp2m-34w__ccsm3': 2.33,\n",
       " 'ccsm30': 4.24}"
      ]
     },
     "execution_count": 16,
     "metadata": {},
     "output_type": "execute_result"
    }
   ],
   "source": [
    "# The percentage of missing values per column\n",
    "perc_missing = {col: round((val/train_df.shape[0])*100, 2) for col, val in is_missing(train_df).items()}\n",
    "perc_missing"
   ]
  },
  {
   "cell_type": "code",
   "execution_count": 17,
   "id": "3302a45d",
   "metadata": {},
   "outputs": [
    {
     "data": {
      "text/plain": [
       "27.086183310533517"
      ]
     },
     "execution_count": 17,
     "metadata": {},
     "output_type": "execute_result"
    }
   ],
   "source": [
    "# The total percentage of missing values\n",
    "(sum(is_missing(train_df).values())/train_df.shape[0])*100\n",
    "\n",
    "# 27% of the data is not that high, rows with missing values to avoid giving false data to the model"
   ]
  },
  {
   "cell_type": "markdown",
   "id": "2e3c0276",
   "metadata": {},
   "source": [
    "The missing values can be replaced with the mean. The records with missing values can't be dropped because it constitutes around half of the whole dataset."
   ]
  },
  {
   "cell_type": "code",
   "execution_count": 18,
   "id": "fb3250a0",
   "metadata": {},
   "outputs": [],
   "source": [
    "def drop_missing(data):\n",
    " \n",
    "   return data.dropna(axis=0)"
   ]
  },
  {
   "cell_type": "code",
   "execution_count": 19,
   "id": "ff1f63f2",
   "metadata": {},
   "outputs": [],
   "source": [
    "#columns_missing=  [column for column in train_df.columns if train_df[column].isnull().sum()]\n",
    "#del_missing = ColumnTransformer(transformers=[('delete_missing', FunctionTransformer(drop_missing), columns_missing)], remainder='passthrough')"
   ]
  },
  {
   "cell_type": "code",
   "execution_count": 20,
   "id": "cfcc959b",
   "metadata": {},
   "outputs": [],
   "source": [
    "train_df = drop_missing(train_df)"
   ]
  },
  {
   "cell_type": "code",
   "execution_count": 21,
   "id": "1fe42974",
   "metadata": {},
   "outputs": [
    {
     "data": {
      "text/plain": [
       "{}"
      ]
     },
     "execution_count": 21,
     "metadata": {},
     "output_type": "execute_result"
    }
   ],
   "source": [
    "#re-check for missing values\n",
    "is_missing(train_df)"
   ]
  },
  {
   "cell_type": "code",
   "execution_count": 22,
   "id": "8a6263db",
   "metadata": {},
   "outputs": [
    {
     "data": {
      "text/plain": [
       "{}"
      ]
     },
     "execution_count": 22,
     "metadata": {},
     "output_type": "execute_result"
    }
   ],
   "source": [
    "is_missing(test_df)"
   ]
  },
  {
   "attachments": {},
   "cell_type": "markdown",
   "id": "7390bd98",
   "metadata": {},
   "source": [
    "#### **Feature Engineering**\n",
    "### Add new features - 'startdate' column"
   ]
  },
  {
   "cell_type": "markdown",
   "id": "996bc9cb",
   "metadata": {},
   "source": [
    "Convert startdate from dtype object to datetime, and add new features “year”, “month” and “day”"
   ]
  },
  {
   "cell_type": "code",
   "execution_count": 23,
   "id": "057277c9",
   "metadata": {},
   "outputs": [
    {
     "data": {
      "text/html": [
       "<div>\n",
       "<style scoped>\n",
       "    .dataframe tbody tr th:only-of-type {\n",
       "        vertical-align: middle;\n",
       "    }\n",
       "\n",
       "    .dataframe tbody tr th {\n",
       "        vertical-align: top;\n",
       "    }\n",
       "\n",
       "    .dataframe thead th {\n",
       "        text-align: right;\n",
       "    }\n",
       "</style>\n",
       "<table border=\"1\" class=\"dataframe\">\n",
       "  <thead>\n",
       "    <tr style=\"text-align: right;\">\n",
       "      <th></th>\n",
       "      <th>lat</th>\n",
       "      <th>lon</th>\n",
       "      <th>startdate</th>\n",
       "      <th>contest-pevpr-sfc-gauss-14d__pevpr</th>\n",
       "      <th>nmme0-tmp2m-34w__cancm30</th>\n",
       "      <th>nmme0-tmp2m-34w__cancm40</th>\n",
       "      <th>nmme0-tmp2m-34w__ccsm30</th>\n",
       "      <th>nmme0-tmp2m-34w__ccsm40</th>\n",
       "      <th>nmme0-tmp2m-34w__cfsv20</th>\n",
       "      <th>nmme0-tmp2m-34w__gfdlflora0</th>\n",
       "      <th>...</th>\n",
       "      <th>wind-vwnd-925-2010-14</th>\n",
       "      <th>wind-vwnd-925-2010-15</th>\n",
       "      <th>wind-vwnd-925-2010-16</th>\n",
       "      <th>wind-vwnd-925-2010-17</th>\n",
       "      <th>wind-vwnd-925-2010-18</th>\n",
       "      <th>wind-vwnd-925-2010-19</th>\n",
       "      <th>wind-vwnd-925-2010-20</th>\n",
       "      <th>year</th>\n",
       "      <th>month</th>\n",
       "      <th>dayofyear</th>\n",
       "    </tr>\n",
       "    <tr>\n",
       "      <th>index</th>\n",
       "      <th></th>\n",
       "      <th></th>\n",
       "      <th></th>\n",
       "      <th></th>\n",
       "      <th></th>\n",
       "      <th></th>\n",
       "      <th></th>\n",
       "      <th></th>\n",
       "      <th></th>\n",
       "      <th></th>\n",
       "      <th></th>\n",
       "      <th></th>\n",
       "      <th></th>\n",
       "      <th></th>\n",
       "      <th></th>\n",
       "      <th></th>\n",
       "      <th></th>\n",
       "      <th></th>\n",
       "      <th></th>\n",
       "      <th></th>\n",
       "      <th></th>\n",
       "    </tr>\n",
       "  </thead>\n",
       "  <tbody>\n",
       "    <tr>\n",
       "      <th>0</th>\n",
       "      <td>0.0</td>\n",
       "      <td>0.833333</td>\n",
       "      <td>2014-09-01</td>\n",
       "      <td>237.0</td>\n",
       "      <td>29.02</td>\n",
       "      <td>31.64</td>\n",
       "      <td>29.57</td>\n",
       "      <td>30.73</td>\n",
       "      <td>29.71</td>\n",
       "      <td>31.52</td>\n",
       "      <td>...</td>\n",
       "      <td>9.56</td>\n",
       "      <td>-2.03</td>\n",
       "      <td>48.13</td>\n",
       "      <td>28.09</td>\n",
       "      <td>-13.50</td>\n",
       "      <td>11.90</td>\n",
       "      <td>4.58</td>\n",
       "      <td>2014</td>\n",
       "      <td>9</td>\n",
       "      <td>1</td>\n",
       "    </tr>\n",
       "    <tr>\n",
       "      <th>1</th>\n",
       "      <td>0.0</td>\n",
       "      <td>0.833333</td>\n",
       "      <td>2014-09-02</td>\n",
       "      <td>228.9</td>\n",
       "      <td>29.02</td>\n",
       "      <td>31.64</td>\n",
       "      <td>29.57</td>\n",
       "      <td>30.73</td>\n",
       "      <td>29.71</td>\n",
       "      <td>31.52</td>\n",
       "      <td>...</td>\n",
       "      <td>21.17</td>\n",
       "      <td>4.44</td>\n",
       "      <td>48.60</td>\n",
       "      <td>27.41</td>\n",
       "      <td>-23.77</td>\n",
       "      <td>15.44</td>\n",
       "      <td>3.42</td>\n",
       "      <td>2014</td>\n",
       "      <td>9</td>\n",
       "      <td>2</td>\n",
       "    </tr>\n",
       "  </tbody>\n",
       "</table>\n",
       "<p>2 rows × 248 columns</p>\n",
       "</div>"
      ],
      "text/plain": [
       "       lat       lon  startdate  contest-pevpr-sfc-gauss-14d__pevpr  \\\n",
       "index                                                                 \n",
       "0      0.0  0.833333 2014-09-01                               237.0   \n",
       "1      0.0  0.833333 2014-09-02                               228.9   \n",
       "\n",
       "       nmme0-tmp2m-34w__cancm30  nmme0-tmp2m-34w__cancm40  \\\n",
       "index                                                       \n",
       "0                         29.02                     31.64   \n",
       "1                         29.02                     31.64   \n",
       "\n",
       "       nmme0-tmp2m-34w__ccsm30  nmme0-tmp2m-34w__ccsm40  \\\n",
       "index                                                     \n",
       "0                        29.57                    30.73   \n",
       "1                        29.57                    30.73   \n",
       "\n",
       "       nmme0-tmp2m-34w__cfsv20  nmme0-tmp2m-34w__gfdlflora0  ...  \\\n",
       "index                                                        ...   \n",
       "0                        29.71                        31.52  ...   \n",
       "1                        29.71                        31.52  ...   \n",
       "\n",
       "       wind-vwnd-925-2010-14  wind-vwnd-925-2010-15  wind-vwnd-925-2010-16  \\\n",
       "index                                                                        \n",
       "0                       9.56                  -2.03                  48.13   \n",
       "1                      21.17                   4.44                  48.60   \n",
       "\n",
       "       wind-vwnd-925-2010-17  wind-vwnd-925-2010-18  wind-vwnd-925-2010-19  \\\n",
       "index                                                                        \n",
       "0                      28.09                 -13.50                  11.90   \n",
       "1                      27.41                 -23.77                  15.44   \n",
       "\n",
       "       wind-vwnd-925-2010-20  year  month  dayofyear  \n",
       "index                                                 \n",
       "0                       4.58  2014      9          1  \n",
       "1                       3.42  2014      9          2  \n",
       "\n",
       "[2 rows x 248 columns]"
      ]
     },
     "execution_count": 23,
     "metadata": {},
     "output_type": "execute_result"
    }
   ],
   "source": [
    "def create_time_features(df):\n",
    "    df['startdate'] = pd.to_datetime(df['startdate'])\n",
    "    df = df.copy()\n",
    "    df['year'] = df.startdate.dt.year\n",
    "    df['month'] = df.startdate.dt.month\n",
    "    df['dayofyear'] = train_df.startdate.dt.day\n",
    "    return df\n",
    "\n",
    "train_df = create_time_features(train_df)\n",
    "test_df = create_time_features(test_df)\n",
    "train_df.head(2)"
   ]
  },
  {
   "cell_type": "markdown",
   "id": "f2b0af0d",
   "metadata": {},
   "source": [
    "### Separate predictor and target variables"
   ]
  },
  {
   "cell_type": "code",
   "execution_count": 24,
   "id": "77d0f394",
   "metadata": {},
   "outputs": [
    {
     "data": {
      "text/plain": [
       "2015    164480\n",
       "2016    125416\n",
       "2014     62708\n",
       "Name: year, dtype: int64"
      ]
     },
     "execution_count": 24,
     "metadata": {},
     "output_type": "execute_result"
    }
   ],
   "source": [
    "####!!!\n",
    "train_df['year'].value_counts()"
   ]
  },
  {
   "cell_type": "code",
   "execution_count": 25,
   "id": "69e89fec",
   "metadata": {},
   "outputs": [],
   "source": [
    "#drop irrelevant column\n",
    "### Why did you drop year?? Why create it only to drop it?\n",
    "\n",
    "train_df.drop(['startdate', 'year'],axis=1,inplace=True)\n",
    "X_test = test_df.drop(['startdate', 'year'], axis=1)"
   ]
  },
  {
   "cell_type": "code",
   "execution_count": 26,
   "id": "46b4d231",
   "metadata": {},
   "outputs": [],
   "source": [
    "#Obtain the target and features from the training set\n",
    "# Drop prematurely, why not check for collinearity with the target too before dropping?\n",
    "\n",
    "#y_train = train_df['contest-tmp2m-14d__tmp2m']\n",
    "#X_train = train_df.drop(columns='contest-tmp2m-14d__tmp2m')"
   ]
  },
  {
   "cell_type": "markdown",
   "id": "936e847f",
   "metadata": {},
   "source": [
    "### Multicollinearity of features"
   ]
  },
  {
   "cell_type": "code",
   "execution_count": 58,
   "id": "7c0c0de2",
   "metadata": {},
   "outputs": [],
   "source": [
    "df = train_df.corr().abs().stack().reset_index().sort_values(0, ascending=False)"
   ]
  },
  {
   "cell_type": "code",
   "execution_count": 59,
   "id": "78dde3e8",
   "metadata": {},
   "outputs": [],
   "source": [
    "df.columns = ['Column1', 'Column2', 'correlation']\n",
    "df = df[(df['correlation'] > 0.75) & (df['correlation'] != 1)]\n",
    "df['pairs'] = set(zip(df['Column1'], df['Column2']))\n",
    "df.drop(['Column1', 'Column2'], axis=1, inplace=True)"
   ]
  },
  {
   "cell_type": "code",
   "execution_count": 66,
   "id": "a330a37b",
   "metadata": {},
   "outputs": [
    {
     "data": {
      "text/html": [
       "<div>\n",
       "<style scoped>\n",
       "    .dataframe tbody tr th:only-of-type {\n",
       "        vertical-align: middle;\n",
       "    }\n",
       "\n",
       "    .dataframe tbody tr th {\n",
       "        vertical-align: top;\n",
       "    }\n",
       "\n",
       "    .dataframe thead th {\n",
       "        text-align: right;\n",
       "    }\n",
       "</style>\n",
       "<table border=\"1\" class=\"dataframe\">\n",
       "  <thead>\n",
       "    <tr style=\"text-align: right;\">\n",
       "      <th></th>\n",
       "      <th>correlation</th>\n",
       "      <th>pairs</th>\n",
       "    </tr>\n",
       "  </thead>\n",
       "  <tbody>\n",
       "    <tr>\n",
       "      <th>19623</th>\n",
       "      <td>0.998910</td>\n",
       "      <td>(wind-uwnd-250-2010-3, wind-hgt-100-2010-2)</td>\n",
       "    </tr>\n",
       "    <tr>\n",
       "      <th>5715</th>\n",
       "      <td>0.998910</td>\n",
       "      <td>(ccsm40, nmme-tmp2m-56w__ccsm3)</td>\n",
       "    </tr>\n",
       "    <tr>\n",
       "      <th>1969</th>\n",
       "      <td>0.998893</td>\n",
       "      <td>(nmme-tmp2m-56w__cancm4, cfsv20)</td>\n",
       "    </tr>\n",
       "    <tr>\n",
       "      <th>2213</th>\n",
       "      <td>0.998893</td>\n",
       "      <td>(nmme-tmp2m-56w__ccsm4, cancm40)</td>\n",
       "    </tr>\n",
       "    <tr>\n",
       "      <th>22633</th>\n",
       "      <td>0.998837</td>\n",
       "      <td>(nmme-tmp2m-56w__ccsm3, wind-uwnd-250-2010-1)</td>\n",
       "    </tr>\n",
       "    <tr>\n",
       "      <th>...</th>\n",
       "      <td>...</td>\n",
       "      <td>...</td>\n",
       "    </tr>\n",
       "    <tr>\n",
       "      <th>13537</th>\n",
       "      <td>0.750818</td>\n",
       "      <td>(nmme0-tmp2m-34w__ccsm40, nasa0)</td>\n",
       "    </tr>\n",
       "    <tr>\n",
       "      <th>7160</th>\n",
       "      <td>0.750668</td>\n",
       "      <td>(wind-hgt-10-2010-1, nmme-tmp2m-56w__gfdlflora)</td>\n",
       "    </tr>\n",
       "    <tr>\n",
       "      <th>13504</th>\n",
       "      <td>0.750668</td>\n",
       "      <td>(nmme-tmp2m-34w__ccsm4, wind-uwnd-925-2010-1)</td>\n",
       "    </tr>\n",
       "    <tr>\n",
       "      <th>8148</th>\n",
       "      <td>0.750394</td>\n",
       "      <td>(nmme-tmp2m-34w__gfdlflorb, nmme0mean)</td>\n",
       "    </tr>\n",
       "    <tr>\n",
       "      <th>15468</th>\n",
       "      <td>0.750394</td>\n",
       "      <td>(nmme-prate-56w__cancm4, nmme-prate-56w__gfdl)</td>\n",
       "    </tr>\n",
       "  </tbody>\n",
       "</table>\n",
       "<p>2948 rows × 2 columns</p>\n",
       "</div>"
      ],
      "text/plain": [
       "       correlation                                            pairs\n",
       "19623     0.998910      (wind-uwnd-250-2010-3, wind-hgt-100-2010-2)\n",
       "5715      0.998910                  (ccsm40, nmme-tmp2m-56w__ccsm3)\n",
       "1969      0.998893                 (nmme-tmp2m-56w__cancm4, cfsv20)\n",
       "2213      0.998893                 (nmme-tmp2m-56w__ccsm4, cancm40)\n",
       "22633     0.998837    (nmme-tmp2m-56w__ccsm3, wind-uwnd-250-2010-1)\n",
       "...            ...                                              ...\n",
       "13537     0.750818                 (nmme0-tmp2m-34w__ccsm40, nasa0)\n",
       "7160      0.750668  (wind-hgt-10-2010-1, nmme-tmp2m-56w__gfdlflora)\n",
       "13504     0.750668    (nmme-tmp2m-34w__ccsm4, wind-uwnd-925-2010-1)\n",
       "8148      0.750394           (nmme-tmp2m-34w__gfdlflorb, nmme0mean)\n",
       "15468     0.750394   (nmme-prate-56w__cancm4, nmme-prate-56w__gfdl)\n",
       "\n",
       "[2948 rows x 2 columns]"
      ]
     },
     "execution_count": 66,
     "metadata": {},
     "output_type": "execute_result"
    }
   ],
   "source": [
    "df"
   ]
  },
  {
   "cell_type": "code",
   "execution_count": 71,
   "id": "f281a825",
   "metadata": {},
   "outputs": [],
   "source": [
    "to_drop = set()\n",
    "for cols in df['pairs']:\n",
    "    if cols[0] not in to_drop and cols[1] not in to_drop:\n",
    "        to_drop.add(cols[0])\n",
    "    elif cols[0] in to_drop or cols[1] in to_drop:\n",
    "        pass\n",
    "to_drop = list(to_drop)"
   ]
  },
  {
   "cell_type": "code",
   "execution_count": 73,
   "id": "2e48f41c",
   "metadata": {},
   "outputs": [],
   "source": [
    "train_df.drop(to_drop, axis=1, inplace=True)"
   ]
  },
  {
   "cell_type": "code",
   "execution_count": 75,
   "id": "699d63a1",
   "metadata": {},
   "outputs": [
    {
     "data": {
      "text/plain": [
       "144"
      ]
     },
     "execution_count": 75,
     "metadata": {},
     "output_type": "execute_result"
    }
   ],
   "source": [
    "len(train_df.corr() > 0.75)"
   ]
  },
  {
   "cell_type": "code",
   "execution_count": null,
   "id": "ce3f0152",
   "metadata": {},
   "outputs": [],
   "source": [
    "# We should drop one of the columns in the dataset. Collinearity mostly means the two columns might be indirectly representing the same thing.\n",
    "\n",
    "\n",
    "###NOT SURE HOW TO HANDLE THE MULTICOLLINEARITY - TOO MANY PAIRS\n",
    "# LOG TRANSFORM NOT DONE - COZ OF 0 AND NEGATIVE VALUES"
   ]
  },
  {
   "attachments": {},
   "cell_type": "markdown",
   "id": "93debd1c",
   "metadata": {},
   "source": [
    " Splitting the train_values and train_labels into train and test data**"
   ]
  },
  {
   "cell_type": "code",
   "execution_count": null,
   "id": "22ba4ea1",
   "metadata": {},
   "outputs": [],
   "source": []
  },
  {
   "cell_type": "markdown",
   "id": "1e39bb8f",
   "metadata": {},
   "source": [
    "### Feature scaling"
   ]
  },
  {
   "cell_type": "code",
   "execution_count": null,
   "id": "41363d7f",
   "metadata": {},
   "outputs": [],
   "source": [
    "# Shouldn't Scaling be done after ohe?\n",
    "\n",
    "\n",
    "# feature scaling\n",
    "scaler = StandardScaler()\n",
    "scale_columns_train = X_train.select_dtypes(include='number').columns\n",
    "scale_columns_test = X_test.select_dtypes(include='number').columns\n",
    "\n",
    "# Transform the training and test sets\n",
    "scaled_train_data = pd.DataFrame(scaler.fit_transform(X_train[scale_columns_train]), columns=scale_columns_train, index=X_train.index)\n",
    "X_train_processed = pd.concat([X_train.drop(scale_columns_train, axis=1), scaled_train_data], axis=1)\n",
    "\n",
    "scaled_test_data = pd.DataFrame(scaler.transform(X_test[scale_columns_test]), columns=scale_columns_test, index=X_test.index)\n",
    "X_test_processed = pd.concat([X_test.drop(scale_columns_test, axis=1), scaled_test_data], axis=1)"
   ]
  },
  {
   "cell_type": "code",
   "execution_count": null,
   "id": "41d87c82",
   "metadata": {},
   "outputs": [
    {
     "data": {
      "text/html": [
       "<div>\n",
       "<style scoped>\n",
       "    .dataframe tbody tr th:only-of-type {\n",
       "        vertical-align: middle;\n",
       "    }\n",
       "\n",
       "    .dataframe tbody tr th {\n",
       "        vertical-align: top;\n",
       "    }\n",
       "\n",
       "    .dataframe thead th {\n",
       "        text-align: right;\n",
       "    }\n",
       "</style>\n",
       "<table border=\"1\" class=\"dataframe\">\n",
       "  <thead>\n",
       "    <tr style=\"text-align: right;\">\n",
       "      <th></th>\n",
       "      <th>climateregions__climateregion</th>\n",
       "      <th>lat</th>\n",
       "      <th>lon</th>\n",
       "      <th>contest-pevpr-sfc-gauss-14d__pevpr</th>\n",
       "      <th>nmme0-tmp2m-34w__cancm30</th>\n",
       "      <th>nmme0-tmp2m-34w__cancm40</th>\n",
       "      <th>nmme0-tmp2m-34w__ccsm30</th>\n",
       "      <th>nmme0-tmp2m-34w__ccsm40</th>\n",
       "      <th>nmme0-tmp2m-34w__cfsv20</th>\n",
       "      <th>nmme0-tmp2m-34w__gfdlflora0</th>\n",
       "      <th>...</th>\n",
       "      <th>wind-vwnd-925-2010-13</th>\n",
       "      <th>wind-vwnd-925-2010-14</th>\n",
       "      <th>wind-vwnd-925-2010-15</th>\n",
       "      <th>wind-vwnd-925-2010-16</th>\n",
       "      <th>wind-vwnd-925-2010-17</th>\n",
       "      <th>wind-vwnd-925-2010-18</th>\n",
       "      <th>wind-vwnd-925-2010-19</th>\n",
       "      <th>wind-vwnd-925-2010-20</th>\n",
       "      <th>month</th>\n",
       "      <th>dayofyear</th>\n",
       "    </tr>\n",
       "  </thead>\n",
       "  <tbody>\n",
       "    <tr>\n",
       "      <th>0</th>\n",
       "      <td>BSh</td>\n",
       "      <td>-2.354642</td>\n",
       "      <td>1.159198</td>\n",
       "      <td>-0.200642</td>\n",
       "      <td>1.663408</td>\n",
       "      <td>1.707969</td>\n",
       "      <td>1.924361</td>\n",
       "      <td>1.805495</td>\n",
       "      <td>2.018001</td>\n",
       "      <td>1.847282</td>\n",
       "      <td>...</td>\n",
       "      <td>0.039505</td>\n",
       "      <td>-0.383256</td>\n",
       "      <td>0.490428</td>\n",
       "      <td>1.696985</td>\n",
       "      <td>1.268815</td>\n",
       "      <td>-1.141869</td>\n",
       "      <td>0.056244</td>\n",
       "      <td>-0.267443</td>\n",
       "      <td>0.718982</td>\n",
       "      <td>0.578406</td>\n",
       "    </tr>\n",
       "    <tr>\n",
       "      <th>1</th>\n",
       "      <td>BSh</td>\n",
       "      <td>-2.354642</td>\n",
       "      <td>1.159198</td>\n",
       "      <td>-0.241533</td>\n",
       "      <td>1.663408</td>\n",
       "      <td>1.707969</td>\n",
       "      <td>1.924361</td>\n",
       "      <td>1.805495</td>\n",
       "      <td>2.018001</td>\n",
       "      <td>1.847282</td>\n",
       "      <td>...</td>\n",
       "      <td>0.051206</td>\n",
       "      <td>0.075846</td>\n",
       "      <td>0.692953</td>\n",
       "      <td>1.710742</td>\n",
       "      <td>1.243677</td>\n",
       "      <td>-1.539201</td>\n",
       "      <td>0.197446</td>\n",
       "      <td>-0.313633</td>\n",
       "      <td>0.718982</td>\n",
       "      <td>0.587901</td>\n",
       "    </tr>\n",
       "    <tr>\n",
       "      <th>2</th>\n",
       "      <td>BSh</td>\n",
       "      <td>-2.354642</td>\n",
       "      <td>1.159198</td>\n",
       "      <td>-0.282980</td>\n",
       "      <td>1.663408</td>\n",
       "      <td>1.707969</td>\n",
       "      <td>1.924361</td>\n",
       "      <td>1.805495</td>\n",
       "      <td>2.018001</td>\n",
       "      <td>1.847282</td>\n",
       "      <td>...</td>\n",
       "      <td>0.004923</td>\n",
       "      <td>0.510431</td>\n",
       "      <td>0.710795</td>\n",
       "      <td>1.708693</td>\n",
       "      <td>0.940538</td>\n",
       "      <td>-1.902486</td>\n",
       "      <td>0.184283</td>\n",
       "      <td>-0.257886</td>\n",
       "      <td>0.718982</td>\n",
       "      <td>0.597396</td>\n",
       "    </tr>\n",
       "  </tbody>\n",
       "</table>\n",
       "<p>3 rows × 245 columns</p>\n",
       "</div>"
      ],
      "text/plain": [
       "  climateregions__climateregion       lat       lon  \\\n",
       "0                           BSh -2.354642  1.159198   \n",
       "1                           BSh -2.354642  1.159198   \n",
       "2                           BSh -2.354642  1.159198   \n",
       "\n",
       "   contest-pevpr-sfc-gauss-14d__pevpr  nmme0-tmp2m-34w__cancm30  \\\n",
       "0                           -0.200642                  1.663408   \n",
       "1                           -0.241533                  1.663408   \n",
       "2                           -0.282980                  1.663408   \n",
       "\n",
       "   nmme0-tmp2m-34w__cancm40  nmme0-tmp2m-34w__ccsm30  nmme0-tmp2m-34w__ccsm40  \\\n",
       "0                  1.707969                 1.924361                 1.805495   \n",
       "1                  1.707969                 1.924361                 1.805495   \n",
       "2                  1.707969                 1.924361                 1.805495   \n",
       "\n",
       "   nmme0-tmp2m-34w__cfsv20  nmme0-tmp2m-34w__gfdlflora0  ...  \\\n",
       "0                 2.018001                     1.847282  ...   \n",
       "1                 2.018001                     1.847282  ...   \n",
       "2                 2.018001                     1.847282  ...   \n",
       "\n",
       "   wind-vwnd-925-2010-13  wind-vwnd-925-2010-14  wind-vwnd-925-2010-15  \\\n",
       "0               0.039505              -0.383256               0.490428   \n",
       "1               0.051206               0.075846               0.692953   \n",
       "2               0.004923               0.510431               0.710795   \n",
       "\n",
       "   wind-vwnd-925-2010-16  wind-vwnd-925-2010-17  wind-vwnd-925-2010-18  \\\n",
       "0               1.696985               1.268815              -1.141869   \n",
       "1               1.710742               1.243677              -1.539201   \n",
       "2               1.708693               0.940538              -1.902486   \n",
       "\n",
       "   wind-vwnd-925-2010-19  wind-vwnd-925-2010-20     month  dayofyear  \n",
       "0               0.056244              -0.267443  0.718982   0.578406  \n",
       "1               0.197446              -0.313633  0.718982   0.587901  \n",
       "2               0.184283              -0.257886  0.718982   0.597396  \n",
       "\n",
       "[3 rows x 245 columns]"
      ]
     },
     "execution_count": 23,
     "metadata": {},
     "output_type": "execute_result"
    }
   ],
   "source": [
    "# preview of the processed X-train data\n",
    "X_train_processed.head(3)"
   ]
  },
  {
   "cell_type": "code",
   "execution_count": null,
   "id": "8644d5f2",
   "metadata": {},
   "outputs": [
    {
     "data": {
      "text/html": [
       "<div>\n",
       "<style scoped>\n",
       "    .dataframe tbody tr th:only-of-type {\n",
       "        vertical-align: middle;\n",
       "    }\n",
       "\n",
       "    .dataframe tbody tr th {\n",
       "        vertical-align: top;\n",
       "    }\n",
       "\n",
       "    .dataframe thead th {\n",
       "        text-align: right;\n",
       "    }\n",
       "</style>\n",
       "<table border=\"1\" class=\"dataframe\">\n",
       "  <thead>\n",
       "    <tr style=\"text-align: right;\">\n",
       "      <th></th>\n",
       "      <th>climateregions__climateregion</th>\n",
       "      <th>lat</th>\n",
       "      <th>lon</th>\n",
       "      <th>contest-pevpr-sfc-gauss-14d__pevpr</th>\n",
       "      <th>nmme0-tmp2m-34w__cancm30</th>\n",
       "      <th>nmme0-tmp2m-34w__cancm40</th>\n",
       "      <th>nmme0-tmp2m-34w__ccsm30</th>\n",
       "      <th>nmme0-tmp2m-34w__ccsm40</th>\n",
       "      <th>nmme0-tmp2m-34w__cfsv20</th>\n",
       "      <th>nmme0-tmp2m-34w__gfdlflora0</th>\n",
       "      <th>...</th>\n",
       "      <th>wind-vwnd-925-2010-13</th>\n",
       "      <th>wind-vwnd-925-2010-14</th>\n",
       "      <th>wind-vwnd-925-2010-15</th>\n",
       "      <th>wind-vwnd-925-2010-16</th>\n",
       "      <th>wind-vwnd-925-2010-17</th>\n",
       "      <th>wind-vwnd-925-2010-18</th>\n",
       "      <th>wind-vwnd-925-2010-19</th>\n",
       "      <th>wind-vwnd-925-2010-20</th>\n",
       "      <th>month</th>\n",
       "      <th>dayofyear</th>\n",
       "    </tr>\n",
       "  </thead>\n",
       "  <tbody>\n",
       "    <tr>\n",
       "      <th>0</th>\n",
       "      <td>BSh</td>\n",
       "      <td>-2.354642</td>\n",
       "      <td>1.159198</td>\n",
       "      <td>0.318732</td>\n",
       "      <td>1.833234</td>\n",
       "      <td>1.642949</td>\n",
       "      <td>1.884827</td>\n",
       "      <td>1.83292</td>\n",
       "      <td>1.992478</td>\n",
       "      <td>1.79209</td>\n",
       "      <td>...</td>\n",
       "      <td>-0.937384</td>\n",
       "      <td>0.855252</td>\n",
       "      <td>0.293851</td>\n",
       "      <td>0.724634</td>\n",
       "      <td>-0.679775</td>\n",
       "      <td>0.581707</td>\n",
       "      <td>-1.363358</td>\n",
       "      <td>-0.200147</td>\n",
       "      <td>1.298767</td>\n",
       "      <td>0.578406</td>\n",
       "    </tr>\n",
       "    <tr>\n",
       "      <th>1</th>\n",
       "      <td>BSh</td>\n",
       "      <td>-2.354642</td>\n",
       "      <td>1.159198</td>\n",
       "      <td>0.292228</td>\n",
       "      <td>1.833234</td>\n",
       "      <td>1.642949</td>\n",
       "      <td>1.884827</td>\n",
       "      <td>1.83292</td>\n",
       "      <td>1.992478</td>\n",
       "      <td>1.79209</td>\n",
       "      <td>...</td>\n",
       "      <td>-0.921003</td>\n",
       "      <td>1.032803</td>\n",
       "      <td>0.384314</td>\n",
       "      <td>0.784931</td>\n",
       "      <td>-0.654637</td>\n",
       "      <td>0.496206</td>\n",
       "      <td>-1.240504</td>\n",
       "      <td>0.114030</td>\n",
       "      <td>1.298767</td>\n",
       "      <td>0.587901</td>\n",
       "    </tr>\n",
       "    <tr>\n",
       "      <th>2</th>\n",
       "      <td>BSh</td>\n",
       "      <td>-2.354642</td>\n",
       "      <td>1.159198</td>\n",
       "      <td>0.308383</td>\n",
       "      <td>1.833234</td>\n",
       "      <td>1.642949</td>\n",
       "      <td>1.884827</td>\n",
       "      <td>1.83292</td>\n",
       "      <td>1.992478</td>\n",
       "      <td>1.79209</td>\n",
       "      <td>...</td>\n",
       "      <td>-0.896301</td>\n",
       "      <td>1.206400</td>\n",
       "      <td>0.512966</td>\n",
       "      <td>0.915768</td>\n",
       "      <td>-0.474232</td>\n",
       "      <td>0.419215</td>\n",
       "      <td>-1.087735</td>\n",
       "      <td>0.084564</td>\n",
       "      <td>1.298767</td>\n",
       "      <td>0.597396</td>\n",
       "    </tr>\n",
       "  </tbody>\n",
       "</table>\n",
       "<p>3 rows × 245 columns</p>\n",
       "</div>"
      ],
      "text/plain": [
       "  climateregions__climateregion       lat       lon  \\\n",
       "0                           BSh -2.354642  1.159198   \n",
       "1                           BSh -2.354642  1.159198   \n",
       "2                           BSh -2.354642  1.159198   \n",
       "\n",
       "   contest-pevpr-sfc-gauss-14d__pevpr  nmme0-tmp2m-34w__cancm30  \\\n",
       "0                            0.318732                  1.833234   \n",
       "1                            0.292228                  1.833234   \n",
       "2                            0.308383                  1.833234   \n",
       "\n",
       "   nmme0-tmp2m-34w__cancm40  nmme0-tmp2m-34w__ccsm30  nmme0-tmp2m-34w__ccsm40  \\\n",
       "0                  1.642949                 1.884827                  1.83292   \n",
       "1                  1.642949                 1.884827                  1.83292   \n",
       "2                  1.642949                 1.884827                  1.83292   \n",
       "\n",
       "   nmme0-tmp2m-34w__cfsv20  nmme0-tmp2m-34w__gfdlflora0  ...  \\\n",
       "0                 1.992478                      1.79209  ...   \n",
       "1                 1.992478                      1.79209  ...   \n",
       "2                 1.992478                      1.79209  ...   \n",
       "\n",
       "   wind-vwnd-925-2010-13  wind-vwnd-925-2010-14  wind-vwnd-925-2010-15  \\\n",
       "0              -0.937384               0.855252               0.293851   \n",
       "1              -0.921003               1.032803               0.384314   \n",
       "2              -0.896301               1.206400               0.512966   \n",
       "\n",
       "   wind-vwnd-925-2010-16  wind-vwnd-925-2010-17  wind-vwnd-925-2010-18  \\\n",
       "0               0.724634              -0.679775               0.581707   \n",
       "1               0.784931              -0.654637               0.496206   \n",
       "2               0.915768              -0.474232               0.419215   \n",
       "\n",
       "   wind-vwnd-925-2010-19  wind-vwnd-925-2010-20     month  dayofyear  \n",
       "0              -1.363358              -0.200147  1.298767   0.578406  \n",
       "1              -1.240504               0.114030  1.298767   0.587901  \n",
       "2              -1.087735               0.084564  1.298767   0.597396  \n",
       "\n",
       "[3 rows x 245 columns]"
      ]
     },
     "execution_count": 24,
     "metadata": {},
     "output_type": "execute_result"
    }
   ],
   "source": [
    "# preview of the processed X-test data\n",
    "X_test_processed.head(3)"
   ]
  },
  {
   "cell_type": "markdown",
   "id": "f2aad7d6",
   "metadata": {},
   "source": [
    "### Transform categorical variables"
   ]
  },
  {
   "cell_type": "code",
   "execution_count": null,
   "id": "f8683843",
   "metadata": {},
   "outputs": [
    {
     "data": {
      "text/plain": [
       "array(['BSh', 'Cfa', 'BSk', 'BWk', 'BWh', 'Csa', 'Csb', 'Cfb', 'Dfb',\n",
       "       'Dsc', 'Dfc', 'Dfa', 'Dsb', 'Dwa', 'Dwb'], dtype=object)"
      ]
     },
     "execution_count": 25,
     "metadata": {},
     "output_type": "execute_result"
    }
   ],
   "source": [
    "# unique values of the categorical column\n",
    "X_train_processed['climateregions__climateregion'].unique()"
   ]
  },
  {
   "cell_type": "code",
   "execution_count": null,
   "id": "800c342c",
   "metadata": {},
   "outputs": [
    {
     "data": {
      "text/html": [
       "<div>\n",
       "<style scoped>\n",
       "    .dataframe tbody tr th:only-of-type {\n",
       "        vertical-align: middle;\n",
       "    }\n",
       "\n",
       "    .dataframe tbody tr th {\n",
       "        vertical-align: top;\n",
       "    }\n",
       "\n",
       "    .dataframe thead th {\n",
       "        text-align: right;\n",
       "    }\n",
       "</style>\n",
       "<table border=\"1\" class=\"dataframe\">\n",
       "  <thead>\n",
       "    <tr style=\"text-align: right;\">\n",
       "      <th></th>\n",
       "      <th>lat</th>\n",
       "      <th>lon</th>\n",
       "      <th>contest-pevpr-sfc-gauss-14d__pevpr</th>\n",
       "      <th>nmme0-tmp2m-34w__cancm30</th>\n",
       "      <th>nmme0-tmp2m-34w__cancm40</th>\n",
       "      <th>nmme0-tmp2m-34w__ccsm30</th>\n",
       "      <th>nmme0-tmp2m-34w__ccsm40</th>\n",
       "      <th>nmme0-tmp2m-34w__cfsv20</th>\n",
       "      <th>nmme0-tmp2m-34w__gfdlflora0</th>\n",
       "      <th>nmme0-tmp2m-34w__gfdlflorb0</th>\n",
       "      <th>...</th>\n",
       "      <th>climateregions__climateregion_Cfb</th>\n",
       "      <th>climateregions__climateregion_Csa</th>\n",
       "      <th>climateregions__climateregion_Csb</th>\n",
       "      <th>climateregions__climateregion_Dfa</th>\n",
       "      <th>climateregions__climateregion_Dfb</th>\n",
       "      <th>climateregions__climateregion_Dfc</th>\n",
       "      <th>climateregions__climateregion_Dsb</th>\n",
       "      <th>climateregions__climateregion_Dsc</th>\n",
       "      <th>climateregions__climateregion_Dwa</th>\n",
       "      <th>climateregions__climateregion_Dwb</th>\n",
       "    </tr>\n",
       "  </thead>\n",
       "  <tbody>\n",
       "    <tr>\n",
       "      <th>0</th>\n",
       "      <td>-2.354642</td>\n",
       "      <td>1.159198</td>\n",
       "      <td>-0.200642</td>\n",
       "      <td>1.663408</td>\n",
       "      <td>1.707969</td>\n",
       "      <td>1.924361</td>\n",
       "      <td>1.805495</td>\n",
       "      <td>2.018001</td>\n",
       "      <td>1.847282</td>\n",
       "      <td>1.871016</td>\n",
       "      <td>...</td>\n",
       "      <td>0</td>\n",
       "      <td>0</td>\n",
       "      <td>0</td>\n",
       "      <td>0</td>\n",
       "      <td>0</td>\n",
       "      <td>0</td>\n",
       "      <td>0</td>\n",
       "      <td>0</td>\n",
       "      <td>0</td>\n",
       "      <td>0</td>\n",
       "    </tr>\n",
       "    <tr>\n",
       "      <th>1</th>\n",
       "      <td>-2.354642</td>\n",
       "      <td>1.159198</td>\n",
       "      <td>-0.241533</td>\n",
       "      <td>1.663408</td>\n",
       "      <td>1.707969</td>\n",
       "      <td>1.924361</td>\n",
       "      <td>1.805495</td>\n",
       "      <td>2.018001</td>\n",
       "      <td>1.847282</td>\n",
       "      <td>1.871016</td>\n",
       "      <td>...</td>\n",
       "      <td>0</td>\n",
       "      <td>0</td>\n",
       "      <td>0</td>\n",
       "      <td>0</td>\n",
       "      <td>0</td>\n",
       "      <td>0</td>\n",
       "      <td>0</td>\n",
       "      <td>0</td>\n",
       "      <td>0</td>\n",
       "      <td>0</td>\n",
       "    </tr>\n",
       "  </tbody>\n",
       "</table>\n",
       "<p>2 rows × 258 columns</p>\n",
       "</div>"
      ],
      "text/plain": [
       "        lat       lon  contest-pevpr-sfc-gauss-14d__pevpr  \\\n",
       "0 -2.354642  1.159198                           -0.200642   \n",
       "1 -2.354642  1.159198                           -0.241533   \n",
       "\n",
       "   nmme0-tmp2m-34w__cancm30  nmme0-tmp2m-34w__cancm40  \\\n",
       "0                  1.663408                  1.707969   \n",
       "1                  1.663408                  1.707969   \n",
       "\n",
       "   nmme0-tmp2m-34w__ccsm30  nmme0-tmp2m-34w__ccsm40  nmme0-tmp2m-34w__cfsv20  \\\n",
       "0                 1.924361                 1.805495                 2.018001   \n",
       "1                 1.924361                 1.805495                 2.018001   \n",
       "\n",
       "   nmme0-tmp2m-34w__gfdlflora0  nmme0-tmp2m-34w__gfdlflorb0  ...  \\\n",
       "0                     1.847282                     1.871016  ...   \n",
       "1                     1.847282                     1.871016  ...   \n",
       "\n",
       "   climateregions__climateregion_Cfb  climateregions__climateregion_Csa  \\\n",
       "0                                  0                                  0   \n",
       "1                                  0                                  0   \n",
       "\n",
       "   climateregions__climateregion_Csb  climateregions__climateregion_Dfa  \\\n",
       "0                                  0                                  0   \n",
       "1                                  0                                  0   \n",
       "\n",
       "   climateregions__climateregion_Dfb  climateregions__climateregion_Dfc  \\\n",
       "0                                  0                                  0   \n",
       "1                                  0                                  0   \n",
       "\n",
       "   climateregions__climateregion_Dsb  climateregions__climateregion_Dsc  \\\n",
       "0                                  0                                  0   \n",
       "1                                  0                                  0   \n",
       "\n",
       "   climateregions__climateregion_Dwa  climateregions__climateregion_Dwb  \n",
       "0                                  0                                  0  \n",
       "1                                  0                                  0  \n",
       "\n",
       "[2 rows x 258 columns]"
      ]
     },
     "execution_count": 26,
     "metadata": {},
     "output_type": "execute_result"
    }
   ],
   "source": [
    "# Creating dummy variables for the categorical column climateregions__climateregion\n",
    "categorical_col = ['climateregions__climateregion']\n",
    "X_test_processed = pd.get_dummies(X_test_processed, columns=categorical_col, drop_first=True)\n",
    "X_train_processed = pd.get_dummies(X_train_processed, columns=categorical_col, drop_first=True)\n",
    "X_train_processed.head(2)"
   ]
  },
  {
   "cell_type": "markdown",
   "id": "281f074e",
   "metadata": {},
   "source": [
    "## Modeling"
   ]
  },
  {
   "cell_type": "markdown",
   "id": "400d14ab",
   "metadata": {},
   "source": [
    "### 1. Baseline model - Linear Regression"
   ]
  },
  {
   "cell_type": "code",
   "execution_count": null,
   "id": "39bf82a0",
   "metadata": {},
   "outputs": [
    {
     "data": {
      "text/plain": [
       "LinearRegression()"
      ]
     },
     "execution_count": 27,
     "metadata": {},
     "output_type": "execute_result"
    }
   ],
   "source": [
    "# model using basic linear regression\n",
    "baseline_model = LinearRegression()\n",
    "baseline_model.fit(X_train_processed, y_train)"
   ]
  },
  {
   "cell_type": "code",
   "execution_count": null,
   "id": "e62b1358",
   "metadata": {},
   "outputs": [
    {
     "name": "stdout",
     "output_type": "stream",
     "text": [
      "Cross validation RMSE train error: 1.2685389643992555\n",
      "Cross validation RMSE test error: 1.5059980515315925\n"
     ]
    }
   ],
   "source": [
    "#cross validation\n",
    "cross_val = cross_validate(baseline_model, X_train_processed, y_train, cv=8, scoring='neg_root_mean_squared_error', return_train_score=True)\n",
    "\n",
    "# Negative signs in front to convert back to RMSE from -RMSE\n",
    "train_avg = -cross_val[\"train_score\"].mean()\n",
    "test_avg = -cross_val[\"test_score\"].mean()\n",
    "print(f'Cross validation RMSE train error: {train_avg}')\n",
    "print(f'Cross validation RMSE test error: {test_avg}')"
   ]
  },
  {
   "cell_type": "code",
   "execution_count": null,
   "id": "a54d4cfa",
   "metadata": {},
   "outputs": [
    {
     "data": {
      "text/html": [
       "<div>\n",
       "<style scoped>\n",
       "    .dataframe tbody tr th:only-of-type {\n",
       "        vertical-align: middle;\n",
       "    }\n",
       "\n",
       "    .dataframe tbody tr th {\n",
       "        vertical-align: top;\n",
       "    }\n",
       "\n",
       "    .dataframe thead th {\n",
       "        text-align: right;\n",
       "    }\n",
       "</style>\n",
       "<table border=\"1\" class=\"dataframe\">\n",
       "  <thead>\n",
       "    <tr style=\"text-align: right;\">\n",
       "      <th></th>\n",
       "      <th>contest-tmp2m-14d__tmp2m</th>\n",
       "      <th>index</th>\n",
       "    </tr>\n",
       "  </thead>\n",
       "  <tbody>\n",
       "    <tr>\n",
       "      <th>0</th>\n",
       "      <td>28.204863</td>\n",
       "      <td>375734</td>\n",
       "    </tr>\n",
       "    <tr>\n",
       "      <th>1</th>\n",
       "      <td>28.038584</td>\n",
       "      <td>375735</td>\n",
       "    </tr>\n",
       "    <tr>\n",
       "      <th>2</th>\n",
       "      <td>27.863478</td>\n",
       "      <td>375736</td>\n",
       "    </tr>\n",
       "  </tbody>\n",
       "</table>\n",
       "</div>"
      ],
      "text/plain": [
       "   contest-tmp2m-14d__tmp2m   index\n",
       "0                 28.204863  375734\n",
       "1                 28.038584  375735\n",
       "2                 27.863478  375736"
      ]
     },
     "execution_count": 48,
     "metadata": {},
     "output_type": "execute_result"
    }
   ],
   "source": [
    "solutions1 = pd.DataFrame()\n",
    "solutions1['contest-tmp2m-14d__tmp2m'] = baseline_model.predict(X_test_processed)\n",
    "solutions1['index'] = test_df['index']\n",
    "solutions1.head(3)"
   ]
  },
  {
   "cell_type": "code",
   "execution_count": null,
   "id": "7569a297",
   "metadata": {},
   "outputs": [],
   "source": [
    "solutions1.to_csv('Solutions/solutions1.csv', index = False)"
   ]
  },
  {
   "cell_type": "markdown",
   "id": "0523ed44",
   "metadata": {},
   "source": [
    "Score is 5.291."
   ]
  },
  {
   "cell_type": "markdown",
   "id": "608f9aec",
   "metadata": {},
   "source": [
    "### 2. Lasso Regression"
   ]
  },
  {
   "cell_type": "code",
   "execution_count": null,
   "id": "a52159c4",
   "metadata": {},
   "outputs": [
    {
     "name": "stdout",
     "output_type": "stream",
     "text": [
      "\n",
      "----------------\n",
      "\n",
      "The optimal alpha for the lasso regression is:  0.009420555987980219\n"
     ]
    }
   ],
   "source": [
    "# lasso regression\n",
    "lasso = LassoCV(max_iter=100000, cv=15)\n",
    "lasso.fit(X_train_processed, y_train)\n",
    "\n",
    "print('\\n----------------\\n')\n",
    "print('The optimal alpha for the lasso regression is: ', lasso.alpha_)"
   ]
  },
  {
   "cell_type": "code",
   "execution_count": null,
   "id": "c253e912",
   "metadata": {},
   "outputs": [
    {
     "data": {
      "text/html": [
       "<div>\n",
       "<style scoped>\n",
       "    .dataframe tbody tr th:only-of-type {\n",
       "        vertical-align: middle;\n",
       "    }\n",
       "\n",
       "    .dataframe tbody tr th {\n",
       "        vertical-align: top;\n",
       "    }\n",
       "\n",
       "    .dataframe thead th {\n",
       "        text-align: right;\n",
       "    }\n",
       "</style>\n",
       "<table border=\"1\" class=\"dataframe\">\n",
       "  <thead>\n",
       "    <tr style=\"text-align: right;\">\n",
       "      <th></th>\n",
       "      <th>contest-tmp2m-14d__tmp2m</th>\n",
       "      <th>index</th>\n",
       "    </tr>\n",
       "  </thead>\n",
       "  <tbody>\n",
       "    <tr>\n",
       "      <th>0</th>\n",
       "      <td>27.187991</td>\n",
       "      <td>375734</td>\n",
       "    </tr>\n",
       "    <tr>\n",
       "      <th>1</th>\n",
       "      <td>27.170391</td>\n",
       "      <td>375735</td>\n",
       "    </tr>\n",
       "    <tr>\n",
       "      <th>2</th>\n",
       "      <td>27.255788</td>\n",
       "      <td>375736</td>\n",
       "    </tr>\n",
       "  </tbody>\n",
       "</table>\n",
       "</div>"
      ],
      "text/plain": [
       "   contest-tmp2m-14d__tmp2m   index\n",
       "0                 27.187991  375734\n",
       "1                 27.170391  375735\n",
       "2                 27.255788  375736"
      ]
     },
     "execution_count": 52,
     "metadata": {},
     "output_type": "execute_result"
    }
   ],
   "source": [
    "solutions2 = pd.DataFrame()\n",
    "solutions2['contest-tmp2m-14d__tmp2m'] = lasso.predict(X_test_processed)\n",
    "solutions2['index'] = test_df['index']\n",
    "solutions2.to_csv('Solutions/solutions2.csv', index = False)\n",
    "solutions2.head(3)"
   ]
  },
  {
   "cell_type": "markdown",
   "id": "e60a8ad3",
   "metadata": {},
   "source": [
    "Score is 1.714. Better than the baseline model"
   ]
  }
 ],
 "metadata": {
  "kernelspec": {
   "display_name": "learn-env",
   "language": "python",
   "name": "python3"
  },
  "language_info": {
   "codemirror_mode": {
    "name": "ipython",
    "version": 3
   },
   "file_extension": ".py",
   "mimetype": "text/x-python",
   "name": "python",
   "nbconvert_exporter": "python",
   "pygments_lexer": "ipython3",
   "version": "3.8.5"
  },
  "vscode": {
   "interpreter": {
    "hash": "15e1ea0e9ae73a04f4db62dd1e96b3b16ca57ecdaaf21916cbbe9da1fa870ff9"
   }
  }
 },
 "nbformat": 4,
 "nbformat_minor": 5
}
